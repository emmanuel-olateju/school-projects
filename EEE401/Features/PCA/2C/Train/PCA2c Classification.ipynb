{
 "cells": [
  {
   "cell_type": "markdown",
   "metadata": {},
   "source": [
    "# Subject Specific BCI"
   ]
  },
  {
   "cell_type": "code",
   "execution_count": 1,
   "metadata": {},
   "outputs": [],
   "source": [
    "import numpy as np\n",
    "import pandas as pd\n",
    "import matplotlib.pyplot as plt"
   ]
  },
  {
   "cell_type": "code",
   "execution_count": 2,
   "metadata": {},
   "outputs": [],
   "source": [
    "S1_train = pd.read_csv('Bimbola_Train.csv')\n",
    "S1_test = pd.read_csv('Bimbola_Test.csv')\n",
    "\n",
    "S2_train = pd.read_csv('Daniel_Train.csv')\n",
    "S2_test = pd.read_csv('Daniel_Test.csv')\n",
    "\n",
    "S3_train = pd.read_csv('Simi_Train.csv')\n",
    "S3_test = pd.read_csv('Simi_Test.csv')\n",
    "\n",
    "S4_train = pd.read_csv('Samson_Train.csv')\n",
    "\n",
    "S5_test = pd.read_csv('Precious_Test.csv')\n"
   ]
  },
  {
   "cell_type": "code",
   "execution_count": 4,
   "metadata": {},
   "outputs": [
    {
     "data": {
      "text/html": [
       "<div>\n",
       "<style scoped>\n",
       "    .dataframe tbody tr th:only-of-type {\n",
       "        vertical-align: middle;\n",
       "    }\n",
       "\n",
       "    .dataframe tbody tr th {\n",
       "        vertical-align: top;\n",
       "    }\n",
       "\n",
       "    .dataframe thead th {\n",
       "        text-align: right;\n",
       "    }\n",
       "</style>\n",
       "<table border=\"1\" class=\"dataframe\">\n",
       "  <thead>\n",
       "    <tr style=\"text-align: right;\">\n",
       "      <th></th>\n",
       "      <th>A</th>\n",
       "      <th>B</th>\n",
       "      <th>timestamp</th>\n",
       "      <th>marker</th>\n",
       "      <th>i</th>\n",
       "    </tr>\n",
       "  </thead>\n",
       "  <tbody>\n",
       "    <tr>\n",
       "      <th>0</th>\n",
       "      <td>-1.150465</td>\n",
       "      <td>1.343843</td>\n",
       "      <td>829872.959109</td>\n",
       "      <td>calib-begin</td>\n",
       "      <td>0</td>\n",
       "    </tr>\n",
       "    <tr>\n",
       "      <th>1</th>\n",
       "      <td>-0.830395</td>\n",
       "      <td>0.932045</td>\n",
       "      <td>829877.691422</td>\n",
       "      <td>imag_grasp</td>\n",
       "      <td>1</td>\n",
       "    </tr>\n",
       "    <tr>\n",
       "      <th>2</th>\n",
       "      <td>-0.324388</td>\n",
       "      <td>0.392276</td>\n",
       "      <td>829882.439560</td>\n",
       "      <td>imag_release</td>\n",
       "      <td>2</td>\n",
       "    </tr>\n",
       "    <tr>\n",
       "      <th>3</th>\n",
       "      <td>0.084448</td>\n",
       "      <td>-0.110494</td>\n",
       "      <td>829887.155277</td>\n",
       "      <td>imag_grasp</td>\n",
       "      <td>3</td>\n",
       "    </tr>\n",
       "    <tr>\n",
       "      <th>4</th>\n",
       "      <td>0.177769</td>\n",
       "      <td>-0.448987</td>\n",
       "      <td>829891.879471</td>\n",
       "      <td>imag_release</td>\n",
       "      <td>4</td>\n",
       "    </tr>\n",
       "  </tbody>\n",
       "</table>\n",
       "</div>"
      ],
      "text/plain": [
       "          A         B      timestamp        marker  i\n",
       "0 -1.150465  1.343843  829872.959109   calib-begin  0\n",
       "1 -0.830395  0.932045  829877.691422    imag_grasp  1\n",
       "2 -0.324388  0.392276  829882.439560  imag_release  2\n",
       "3  0.084448 -0.110494  829887.155277    imag_grasp  3\n",
       "4  0.177769 -0.448987  829891.879471  imag_release  4"
      ]
     },
     "execution_count": 4,
     "metadata": {},
     "output_type": "execute_result"
    }
   ],
   "source": [
    "S1_train.head()"
   ]
  },
  {
   "cell_type": "code",
   "execution_count": 5,
   "metadata": {},
   "outputs": [
    {
     "data": {
      "text/plain": [
       "(122, 5)"
      ]
     },
     "execution_count": 5,
     "metadata": {},
     "output_type": "execute_result"
    }
   ],
   "source": [
    "S1_train.shape"
   ]
  },
  {
   "cell_type": "code",
   "execution_count": 6,
   "metadata": {},
   "outputs": [
    {
     "data": {
      "text/html": [
       "<div>\n",
       "<style scoped>\n",
       "    .dataframe tbody tr th:only-of-type {\n",
       "        vertical-align: middle;\n",
       "    }\n",
       "\n",
       "    .dataframe tbody tr th {\n",
       "        vertical-align: top;\n",
       "    }\n",
       "\n",
       "    .dataframe thead th {\n",
       "        text-align: right;\n",
       "    }\n",
       "</style>\n",
       "<table border=\"1\" class=\"dataframe\">\n",
       "  <thead>\n",
       "    <tr style=\"text-align: right;\">\n",
       "      <th></th>\n",
       "      <th>A</th>\n",
       "      <th>B</th>\n",
       "      <th>timestamp</th>\n",
       "      <th>marker</th>\n",
       "      <th>i</th>\n",
       "    </tr>\n",
       "  </thead>\n",
       "  <tbody>\n",
       "    <tr>\n",
       "      <th>117</th>\n",
       "      <td>2.815946</td>\n",
       "      <td>0.041761</td>\n",
       "      <td>830468.032517</td>\n",
       "      <td>imag_grasp</td>\n",
       "      <td>117</td>\n",
       "    </tr>\n",
       "    <tr>\n",
       "      <th>118</th>\n",
       "      <td>-2.725176</td>\n",
       "      <td>1.252782</td>\n",
       "      <td>830472.773176</td>\n",
       "      <td>imag_release</td>\n",
       "      <td>118</td>\n",
       "    </tr>\n",
       "    <tr>\n",
       "      <th>119</th>\n",
       "      <td>-1.893115</td>\n",
       "      <td>-0.406589</td>\n",
       "      <td>830477.505722</td>\n",
       "      <td>imag_grasp</td>\n",
       "      <td>119</td>\n",
       "    </tr>\n",
       "    <tr>\n",
       "      <th>120</th>\n",
       "      <td>1.920568</td>\n",
       "      <td>-1.956314</td>\n",
       "      <td>830482.246928</td>\n",
       "      <td>imag_release</td>\n",
       "      <td>120</td>\n",
       "    </tr>\n",
       "    <tr>\n",
       "      <th>121</th>\n",
       "      <td>3.340078</td>\n",
       "      <td>0.529624</td>\n",
       "      <td>830486.968701</td>\n",
       "      <td>calib-end</td>\n",
       "      <td>121</td>\n",
       "    </tr>\n",
       "  </tbody>\n",
       "</table>\n",
       "</div>"
      ],
      "text/plain": [
       "            A         B      timestamp        marker    i\n",
       "117  2.815946  0.041761  830468.032517    imag_grasp  117\n",
       "118 -2.725176  1.252782  830472.773176  imag_release  118\n",
       "119 -1.893115 -0.406589  830477.505722    imag_grasp  119\n",
       "120  1.920568 -1.956314  830482.246928  imag_release  120\n",
       "121  3.340078  0.529624  830486.968701     calib-end  121"
      ]
     },
     "execution_count": 6,
     "metadata": {},
     "output_type": "execute_result"
    }
   ],
   "source": [
    "S1_train.tail()"
   ]
  },
  {
   "cell_type": "code",
   "execution_count": 7,
   "metadata": {},
   "outputs": [
    {
     "data": {
      "text/plain": [
       "(42, 5)"
      ]
     },
     "execution_count": 7,
     "metadata": {},
     "output_type": "execute_result"
    }
   ],
   "source": [
    "S1_test.shape"
   ]
  },
  {
   "cell_type": "code",
   "execution_count": 8,
   "metadata": {},
   "outputs": [
    {
     "data": {
      "text/html": [
       "<div>\n",
       "<style scoped>\n",
       "    .dataframe tbody tr th:only-of-type {\n",
       "        vertical-align: middle;\n",
       "    }\n",
       "\n",
       "    .dataframe tbody tr th {\n",
       "        vertical-align: top;\n",
       "    }\n",
       "\n",
       "    .dataframe thead th {\n",
       "        text-align: right;\n",
       "    }\n",
       "</style>\n",
       "<table border=\"1\" class=\"dataframe\">\n",
       "  <thead>\n",
       "    <tr style=\"text-align: right;\">\n",
       "      <th></th>\n",
       "      <th>A</th>\n",
       "      <th>B</th>\n",
       "      <th>timestamp</th>\n",
       "      <th>marker</th>\n",
       "      <th>i</th>\n",
       "    </tr>\n",
       "  </thead>\n",
       "  <tbody>\n",
       "    <tr>\n",
       "      <th>37</th>\n",
       "      <td>1.328991</td>\n",
       "      <td>-0.562766</td>\n",
       "      <td>829671.706366</td>\n",
       "      <td>imag_grasp</td>\n",
       "      <td>37</td>\n",
       "    </tr>\n",
       "    <tr>\n",
       "      <th>38</th>\n",
       "      <td>3.174702</td>\n",
       "      <td>-0.204343</td>\n",
       "      <td>829676.437130</td>\n",
       "      <td>imag_release</td>\n",
       "      <td>38</td>\n",
       "    </tr>\n",
       "    <tr>\n",
       "      <th>39</th>\n",
       "      <td>4.315216</td>\n",
       "      <td>0.261990</td>\n",
       "      <td>829681.144663</td>\n",
       "      <td>imag_grasp</td>\n",
       "      <td>39</td>\n",
       "    </tr>\n",
       "    <tr>\n",
       "      <th>40</th>\n",
       "      <td>4.428629</td>\n",
       "      <td>0.607061</td>\n",
       "      <td>829685.880932</td>\n",
       "      <td>imag_release</td>\n",
       "      <td>40</td>\n",
       "    </tr>\n",
       "    <tr>\n",
       "      <th>41</th>\n",
       "      <td>3.489323</td>\n",
       "      <td>0.640655</td>\n",
       "      <td>829690.599112</td>\n",
       "      <td>calib-end</td>\n",
       "      <td>41</td>\n",
       "    </tr>\n",
       "  </tbody>\n",
       "</table>\n",
       "</div>"
      ],
      "text/plain": [
       "           A         B      timestamp        marker   i\n",
       "37  1.328991 -0.562766  829671.706366    imag_grasp  37\n",
       "38  3.174702 -0.204343  829676.437130  imag_release  38\n",
       "39  4.315216  0.261990  829681.144663    imag_grasp  39\n",
       "40  4.428629  0.607061  829685.880932  imag_release  40\n",
       "41  3.489323  0.640655  829690.599112     calib-end  41"
      ]
     },
     "execution_count": 8,
     "metadata": {},
     "output_type": "execute_result"
    }
   ],
   "source": [
    "S1_test.tail()"
   ]
  },
  {
   "cell_type": "code",
   "execution_count": 12,
   "metadata": {},
   "outputs": [],
   "source": [
    "# Remove the calib-begin and calib-end\n",
    "S1_train = S1_train[1:-1]\n",
    "S1_test = S1_test[1:-1]\n",
    "\n",
    "S2_train = S2_train[1:-1]\n",
    "S2_test = S2_test[1:-1]\n",
    "\n",
    "S3_train = S3_train[1:-1]\n",
    "S3_test = S3_test[1:-1]\n",
    "\n",
    "S4_train = S4_train[1:-1]\n",
    "\n",
    "S5_test = S5_test[1:-1]\n",
    "\n",
    "# concatenate train data\n",
    "SI_train = pd.concat([S1_train, S2_train, S3_train, S4_train], ignore_index=True)\n",
    "SI_test = pd.concat([S1_test, S2_test, S3_test, S5_test], ignore_index=True)"
   ]
  },
  {
   "cell_type": "code",
   "execution_count": 31,
   "metadata": {},
   "outputs": [
    {
     "data": {
      "text/plain": [
       "(array([0, 1, 0, 1, 0, 1, 0, 1, 0, 1, 0, 1, 0, 1, 0, 1, 0, 1, 0, 1, 0, 1,\n",
       "        0, 1, 0, 1, 0, 1, 0, 1, 0, 1, 0, 1, 0, 1, 0, 1, 0, 1, 0, 1, 0, 1,\n",
       "        0, 1, 0, 1, 0, 1, 0, 1, 0, 1, 0, 1, 0, 1, 0, 1, 0, 1, 0, 1, 0, 1,\n",
       "        0, 1, 0, 1, 0, 1, 0, 1, 0, 1, 0, 1, 0, 1, 0, 1, 0, 1, 0, 1, 0, 1,\n",
       "        0, 1, 0, 1, 0, 1, 0, 1, 0, 1, 0, 1, 0, 1, 0, 1, 0, 1, 0, 1, 0, 1,\n",
       "        0, 1, 0, 1, 0, 1, 0, 1], dtype=int64),\n",
       " Index(['imag_release', 'imag_grasp'], dtype='object'))"
      ]
     },
     "execution_count": 31,
     "metadata": {},
     "output_type": "execute_result"
    }
   ],
   "source": [
    "S1_train['marker'].factorize()"
   ]
  },
  {
   "cell_type": "code",
   "execution_count": null,
   "metadata": {},
   "outputs": [],
   "source": [
    "# 'imag_release' - 0,  'imag_grasp' - 1"
   ]
  },
  {
   "cell_type": "markdown",
   "metadata": {},
   "source": [
    "# Subject Selected Classifiers"
   ]
  },
  {
   "cell_type": "code",
   "execution_count": 51,
   "metadata": {},
   "outputs": [
    {
     "name": "stderr",
     "output_type": "stream",
     "text": [
      "C:\\ProgramData\\Anaconda3\\lib\\site-packages\\sklearn\\svm\\_base.py:976: ConvergenceWarning: Liblinear failed to converge, increase the number of iterations.\n",
      "  warnings.warn(\"Liblinear failed to converge, increase \"\n"
     ]
    },
    {
     "data": {
      "text/plain": [
       "GradientBoostingClassifier()"
      ]
     },
     "execution_count": 51,
     "metadata": {},
     "output_type": "execute_result"
    }
   ],
   "source": [
    "# S1\n",
    "from sklearn.svm import LinearSVC\n",
    "from sklearn.svm import SVC\n",
    "from sklearn.linear_model import LogisticRegression as lg\n",
    "from sklearn.ensemble import RandomForestClassifier as rfc\n",
    "from sklearn.ensemble import AdaBoostClassifier as abc\n",
    "from sklearn.ensemble import GradientBoostingClassifier as gbc\n",
    "\n",
    "lsvc = LinearSVC()\n",
    "svc = SVC(probability=True)\n",
    "lgr = lg()\n",
    "rfclf = rfc()\n",
    "ada = abc()\n",
    "grad = gbc()\n",
    "\n",
    "S1_learn = S1_train[['A', 'B']]\n",
    "y1_learn = S1_train['marker'].factorize()[0]\n",
    "S1_valid = S1_test[['A', 'B']]\n",
    "y1_valid = S1_test['marker'].factorize()[0]\n",
    "\n",
    "lsvc.fit(S1_learn, y1_learn)\n",
    "svc.fit(S1_learn, y1_learn)\n",
    "lgr.fit(S1_learn, y1_learn)\n",
    "rfclf.fit(S1_learn, y1_learn)\n",
    "ada.fit(S1_learn, y1_learn)\n",
    "grad.fit(S1_learn, y1_learn)"
   ]
  },
  {
   "cell_type": "code",
   "execution_count": 52,
   "metadata": {},
   "outputs": [
    {
     "name": "stdout",
     "output_type": "stream",
     "text": [
      "________________________________________________\n",
      "\n",
      "LinearSVC\n",
      "Subject_1 accuracy train score 0.5338983050847458\n",
      "Subject_1 accuracy test score 0.5526315789473685\n",
      "________________________________________________\n",
      "\n",
      "SVC\n",
      "Subject_1 accuracy train score 0.5847457627118644\n",
      "Subject_1 accuracy test score 0.5\n",
      "________________________________________________\n",
      "\n",
      "LogisticRegression\n",
      "Subject_1 accuracy train score 0.5338983050847458\n",
      "Subject_1 accuracy test score 0.5526315789473685\n",
      "________________________________________________\n",
      "\n",
      "RandomForest\n",
      "Subject_1 accuracy train score 1.0\n",
      "Subject_1 accuracy test score 0.5789473684210527\n",
      "________________________________________________\n",
      "\n",
      "AdaBoost\n",
      "Subject_1 accuracy train score 0.8559322033898306\n",
      "Subject_1 accuracy test score 0.5789473684210527\n",
      "________________________________________________\n",
      "\n",
      "GradientBoost\n",
      "Subject_1 accuracy train score 1.0\n",
      "Subject_1 accuracy test score 0.5263157894736842\n"
     ]
    }
   ],
   "source": [
    "print('________________________________________________\\n')\n",
    "print('LinearSVC')\n",
    "print(f'Subject_1 accuracy train score {lsvc.score(S1_learn, y1_learn)}')\n",
    "print(f'Subject_1 accuracy test score {lsvc.score(S1_valid, y1_valid)}')\n",
    "\n",
    "print('________________________________________________\\n')\n",
    "print('SVC')\n",
    "print(f'Subject_1 accuracy train score {svc.score(S1_learn, y1_learn)}')\n",
    "print(f'Subject_1 accuracy test score {svc.score(S1_valid, y1_valid)}')\n",
    "\n",
    "print('________________________________________________\\n')\n",
    "print('LogisticRegression')\n",
    "print(f'Subject_1 accuracy train score {lgr.score(S1_learn, y1_learn)}')\n",
    "print(f'Subject_1 accuracy test score {lgr.score(S1_valid, y1_valid)}')\n",
    "\n",
    "print('________________________________________________\\n')\n",
    "print('RandomForest')\n",
    "print(f'Subject_1 accuracy train score {rfclf.score(S1_learn, y1_learn)}')\n",
    "print(f'Subject_1 accuracy test score {rfclf.score(S1_valid, y1_valid)}')\n",
    "\n",
    "print('________________________________________________\\n')\n",
    "print('AdaBoost')\n",
    "print(f'Subject_1 accuracy train score {ada.score(S1_learn, y1_learn)}')\n",
    "print(f'Subject_1 accuracy test score {ada.score(S1_valid, y1_valid)}')\n",
    "\n",
    "print('________________________________________________\\n')\n",
    "print('GradientBoost')\n",
    "print(f'Subject_1 accuracy train score {grad.score(S1_learn, y1_learn)}')\n",
    "print(f'Subject_1 accuracy test score {grad.score(S1_valid, y1_valid)}')\n"
   ]
  },
  {
   "cell_type": "code",
   "execution_count": 58,
   "metadata": {},
   "outputs": [
    {
     "data": {
      "text/plain": [
       "[<matplotlib.lines.Line2D at 0x256270d4f10>]"
      ]
     },
     "execution_count": 58,
     "metadata": {},
     "output_type": "execute_result"
    },
    {
     "data": {
      "image/png": "[encoded data removed]",
      "text/plain": [
       "<Figure size 432x288 with 1 Axes>"
      ]
     },
     "metadata": {
      "needs_background": "light"
     },
     "output_type": "display_data"
    }
   ],
   "source": [
    "from sklearn.metrics import roc_curve\n",
    "from sklearn.metrics import auc\n",
    "\n",
    "lpr_train = svc.predict_proba(S1_learn)[:,1]\n",
    "lpr_valid = svc.predict_proba(S1_valid)[:,1]\n",
    "\n",
    "fpr, tpr, thresholds = roc_curve(y1_learn, lpr_train)\n",
    "roc_auc = auc(fpr, tpr)\n",
    "\n",
    "plt.title('Receiver Operating Characteristic')\n",
    "plt.plot(fpr, tpr, 'y', label = 'Train AUC = %0.2f' % roc_auc)\n",
    "plt.legend(loc = 'lower right')\n",
    "plt.plot([0, 1], [0, 1],'r--')\n",
    "plt.xlim([0, 1])\n",
    "plt.ylim([0, 1])\n",
    "plt.ylabel('True Positive Rate')\n",
    "plt.xlabel('False Positive Rate')\n",
    "\n",
    "fpr, tpr, thresholds = roc_curve(y1_valid, lpr_valid)\n",
    "roc_auc = auc(fpr, tpr)\n",
    "\n",
    "plt.title('Receiver Operating Characteristic')\n",
    "plt.plot(fpr, tpr, 'b', label = 'Test AUC = %0.2f' % roc_auc)\n"
   ]
  },
  {
   "cell_type": "code",
   "execution_count": 47,
   "metadata": {},
   "outputs": [
    {
     "data": {
      "text/plain": [
       "GradientBoostingClassifier()"
      ]
     },
     "execution_count": 47,
     "metadata": {},
     "output_type": "execute_result"
    }
   ],
   "source": [
    "# S1\n",
    "from sklearn.svm import LinearSVC\n",
    "from sklearn.svm import SVC\n",
    "from sklearn.linear_model import LogisticRegression as lg\n",
    "from sklearn.ensemble import RandomForestClassifier as rfc\n",
    "from sklearn.ensemble import AdaBoostClassifier as abc\n",
    "from sklearn.ensemble import GradientBoostingClassifier as gbc\n",
    "\n",
    "lsvc = LinearSVC()\n",
    "svc = SVC()\n",
    "lgr = lg()\n",
    "rfclf = rfc()\n",
    "ada = abc()\n",
    "grad = gbc()\n",
    "\n",
    "S1_learn = S1_train[['A', 'B']]\n",
    "y1_learn = S1_train['marker'].factorize()[0]\n",
    "S1_valid = S1_test[['A', 'B']]\n",
    "y1_valid = S1_test['marker'].factorize()[0]\n",
    "\n",
    "lsvc.fit(S1_learn, y1_learn)\n",
    "svc.fit(S1_learn, y1_learn)\n",
    "lgr.fit(S1_learn, y1_learn)\n",
    "rfclf.fit(S1_learn, y1_learn)\n",
    "ada.fit(S1_learn, y1_learn)\n",
    "grad.fit(S1_learn, y1_learn)"
   ]
  },
  {
   "cell_type": "code",
   "execution_count": 48,
   "metadata": {},
   "outputs": [
    {
     "name": "stdout",
     "output_type": "stream",
     "text": [
      "________________________________________________\n",
      "\n",
      "LinearSVC\n",
      "Subject_1 accuracy train score 0.5338983050847458\n",
      "Subject_1 accuracy test score 0.5526315789473685\n",
      "________________________________________________\n",
      "\n",
      "SVC\n",
      "Subject_1 accuracy train score 0.5847457627118644\n",
      "Subject_1 accuracy test score 0.5\n",
      "________________________________________________\n",
      "\n",
      "LogisticRegression\n",
      "Subject_1 accuracy train score 0.5338983050847458\n",
      "Subject_1 accuracy test score 0.5526315789473685\n",
      "________________________________________________\n",
      "\n",
      "RandomForest\n",
      "Subject_1 accuracy train score 1.0\n",
      "Subject_1 accuracy test score 0.5\n",
      "________________________________________________\n",
      "\n",
      "AdaBoost\n",
      "Subject_1 accuracy train score 0.8559322033898306\n",
      "Subject_1 accuracy test score 0.5789473684210527\n",
      "________________________________________________\n",
      "\n",
      "GradientBoost\n",
      "Subject_1 accuracy train score 1.0\n",
      "Subject_1 accuracy test score 0.5263157894736842\n"
     ]
    }
   ],
   "source": [
    "print('________________________________________________\\n')\n",
    "print('LinearSVC')\n",
    "print(f'Subject_1 accuracy train score {lsvc.score(S1_learn, y1_learn)}')\n",
    "print(f'Subject_1 accuracy test score {lsvc.score(S1_valid, y1_valid)}')\n",
    "\n",
    "print('________________________________________________\\n')\n",
    "print('SVC')\n",
    "print(f'Subject_1 accuracy train score {svc.score(S1_learn, y1_learn)}')\n",
    "print(f'Subject_1 accuracy test score {svc.score(S1_valid, y1_valid)}')\n",
    "\n",
    "print('________________________________________________\\n')\n",
    "print('LogisticRegression')\n",
    "print(f'Subject_1 accuracy train score {lgr.score(S1_learn, y1_learn)}')\n",
    "print(f'Subject_1 accuracy test score {lgr.score(S1_valid, y1_valid)}')\n",
    "\n",
    "print('________________________________________________\\n')\n",
    "print('RandomForest')\n",
    "print(f'Subject_1 accuracy train score {rfclf.score(S1_learn, y1_learn)}')\n",
    "print(f'Subject_1 accuracy test score {rfclf.score(S1_valid, y1_valid)}')\n",
    "\n",
    "print('________________________________________________\\n')\n",
    "print('AdaBoost')\n",
    "print(f'Subject_1 accuracy train score {ada.score(S1_learn, y1_learn)}')\n",
    "print(f'Subject_1 accuracy test score {ada.score(S1_valid, y1_valid)}')\n",
    "\n",
    "print('________________________________________________\\n')\n",
    "print('GradientBoost')\n",
    "print(f'Subject_1 accuracy train score {grad.score(S1_learn, y1_learn)}')\n",
    "print(f'Subject_1 accuracy test score {grad.score(S1_valid, y1_valid)}')\n"
   ]
  },
  {
   "cell_type": "code",
   "execution_count": null,
   "metadata": {},
   "outputs": [],
   "source": []
  }
 ],
 "metadata": {
  "kernelspec": {
   "display_name": "Python 3",
   "language": "python",
   "name": "python3"
  },
  "language_info": {
   "codemirror_mode": {
    "name": "ipython",
    "version": 3
   },
   "file_extension": ".py",
   "mimetype": "text/x-python",
   "name": "python",
   "nbconvert_exporter": "python",
   "pygments_lexer": "ipython3",
   "version": "3.7.9"
  }
 },
 "nbformat": 4,
 "nbformat_minor": 4
}
